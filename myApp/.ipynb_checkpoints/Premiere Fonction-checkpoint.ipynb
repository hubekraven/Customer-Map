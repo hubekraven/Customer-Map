{
 "cells": [
  {
   "cell_type": "code",
   "execution_count": 4,
   "metadata": {
    "collapsed": true
   },
   "outputs": [],
   "source": [
    "#!/usr/bin/python\n",
    "import sys\n",
    "from collections import defaultdict\n",
    "# def variable de travail\n",
    "personnel=[]\n",
    "employer={}\n",
    "nbemployer=''\n",
    "int_dict= defaultdict(int)\n",
    "\n",
    "\n"
   ]
  },
  {
   "cell_type": "code",
   "execution_count": 5,
   "metadata": {
    "scrolled": false
   },
   "outputs": [
    {
     "name": "stdout",
     "output_type": "stream",
     "text": [
      "Enter number of Workers: 3\n",
      "number of worker will be:  3\n",
      "Enter NAME: toto\n",
      "Enter NAME: toto\n"
     ]
    },
    {
     "ename": "ValueError",
     "evalue": "list.remove(x): x not in list",
     "output_type": "error",
     "traceback": [
      "\u001b[0;31m---------------------------------------------------------------------------\u001b[0m",
      "\u001b[0;31mValueError\u001b[0m                                Traceback (most recent call last)",
      "\u001b[0;32m<ipython-input-5-6205b2eb48ef>\u001b[0m in \u001b[0;36m<module>\u001b[0;34m()\u001b[0m\n\u001b[1;32m     36\u001b[0m     \u001b[0;32mreturn\u001b[0m\u001b[0;34m;\u001b[0m\u001b[0;34m\u001b[0m\u001b[0m\n\u001b[1;32m     37\u001b[0m \u001b[0;34m\u001b[0m\u001b[0m\n\u001b[0;32m---> 38\u001b[0;31m \u001b[0mtoutcapital\u001b[0m\u001b[0;34m(\u001b[0m\u001b[0;34m)\u001b[0m\u001b[0;34m\u001b[0m\u001b[0m\n\u001b[0m",
      "\u001b[0;32m<ipython-input-5-6205b2eb48ef>\u001b[0m in \u001b[0;36mtoutcapital\u001b[0;34m()\u001b[0m\n\u001b[1;32m     24\u001b[0m                 \u001b[0mpersonnel\u001b[0m\u001b[0;34m.\u001b[0m\u001b[0mappend\u001b[0m\u001b[0;34m(\u001b[0m\u001b[0memployer\u001b[0m\u001b[0;34m)\u001b[0m\u001b[0;34m\u001b[0m\u001b[0m\n\u001b[1;32m     25\u001b[0m             \u001b[0;32melse\u001b[0m\u001b[0;34m:\u001b[0m\u001b[0;34m\u001b[0m\u001b[0m\n\u001b[0;32m---> 26\u001b[0;31m                 \u001b[0mpersonnel\u001b[0m\u001b[0;34m.\u001b[0m\u001b[0mremove\u001b[0m\u001b[0;34m(\u001b[0m\u001b[0memployer\u001b[0m\u001b[0;34m)\u001b[0m\u001b[0;34m\u001b[0m\u001b[0m\n\u001b[0m\u001b[1;32m     27\u001b[0m                 \u001b[0memployer\u001b[0m\u001b[0;34m[\u001b[0m\u001b[0;34m'num'\u001b[0m\u001b[0;34m]\u001b[0m\u001b[0;34m+=\u001b[0m\u001b[0;36m1\u001b[0m\u001b[0;34m\u001b[0m\u001b[0m\n\u001b[1;32m     28\u001b[0m                 \u001b[0mpersonnel\u001b[0m\u001b[0;34m.\u001b[0m\u001b[0mappend\u001b[0m\u001b[0;34m(\u001b[0m\u001b[0memployer\u001b[0m\u001b[0;34m)\u001b[0m\u001b[0;34m\u001b[0m\u001b[0m\n",
      "\u001b[0;31mValueError\u001b[0m: list.remove(x): x not in list"
     ]
    }
   ],
   "source": [
    "#Def de la fonction total capital\n",
    "#permet entrer les infos d'un nb empoyer et imprime leur nom\n",
    "def toutcapital():\n",
    "    #entrer du nombre d'employer\n",
    "    nbemployer = input(\"Enter number of Workers: \");\n",
    "    \n",
    "    #if ((nbemployer.isnumeric()) & (int(nbemployer) >0)):\n",
    "    while ((not nbemployer.isnumeric()) or (int(nbemployer)<0 )):\n",
    "    #while (not nbemployer.isnumeric()):\n",
    "        print('This is not a valide number')\n",
    "        nbemployer = input(\"Enter number of Workers: \");\n",
    "    else:     \n",
    "        print('number of worker will be: ', int(nbemployer))  \n",
    "    \n",
    "        while (len(personnel) < int(nbemployer)):\n",
    "            _nom= input(\"Enter NAME: \");\n",
    "            #_age= input(\"Enter AGE: \");\n",
    "            #_courriel= input(\"Enter EMAIL: \");\n",
    "            _id=len(personnel)\n",
    "            #employer={'id':_id,'nom':_nom,'age':_age, 'courriel':_courriel }\n",
    "            employer={'id':_id,'nom':_nom, 'num':1}\n",
    "            #for employer in personnel:\n",
    "            if not any(employer.get('nom',None) == _nom for employer in personnel):\n",
    "                personnel.append(employer)\n",
    "            else:\n",
    "                personnel.remove(employer)\n",
    "                employer['num']+=1\n",
    "                personnel.append(employer)\n",
    "                \n",
    "                #personnel.insert(a_index, employer)\n",
    "        print(a_index)\n",
    "        print(personnel)\n",
    "        #imprime le nom de tout les employer\n",
    "        #for employer in personnel:\n",
    "           # print('employer ',employer['id']+1,': ',employer['nom'])\n",
    "    return;\n",
    "\n",
    "toutcapital()"
   ]
  },
  {
   "cell_type": "code",
   "execution_count": null,
   "metadata": {
    "collapsed": true
   },
   "outputs": [],
   "source": []
  },
  {
   "cell_type": "code",
   "execution_count": null,
   "metadata": {
    "collapsed": true
   },
   "outputs": [],
   "source": []
  }
 ],
 "metadata": {
  "kernelspec": {
   "display_name": "Python 3",
   "language": "python",
   "name": "python3"
  },
  "language_info": {
   "codemirror_mode": {
    "name": "ipython",
    "version": 3
   },
   "file_extension": ".py",
   "mimetype": "text/x-python",
   "name": "python",
   "nbconvert_exporter": "python",
   "pygments_lexer": "ipython3",
   "version": "3.6.0"
  }
 },
 "nbformat": 4,
 "nbformat_minor": 2
}
